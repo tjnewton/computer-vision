{
 "cells": [
  {
   "cell_type": "markdown",
   "id": "4968b59e-a056-473c-9b81-ffc1e804fb5c",
   "metadata": {},
   "source": [
    "WSOL Notebook"
   ]
  },
  {
   "cell_type": "code",
   "execution_count": null,
   "id": "9be9002a-c457-4fa5-89cf-ff6a30a16d44",
   "metadata": {},
   "outputs": [],
   "source": []
  }
 ],
 "metadata": {
  "kernelspec": {
   "display_name": "cv",
   "language": "python",
   "name": "cv"
  },
  "language_info": {
   "codemirror_mode": {
    "name": "ipython",
    "version": 3
   },
   "file_extension": ".py",
   "mimetype": "text/x-python",
   "name": "python",
   "nbconvert_exporter": "python",
   "pygments_lexer": "ipython3",
   "version": "3.8.10"
  }
 },
 "nbformat": 4,
 "nbformat_minor": 5
}
